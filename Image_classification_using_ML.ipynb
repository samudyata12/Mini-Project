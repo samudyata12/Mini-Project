{
  "nbformat": 4,
  "nbformat_minor": 0,
  "metadata": {
    "colab": {
      "name": "Image classification using ML.ipynb",
      "provenance": [],
      "mount_file_id": "1nZASiYwVwO7l6dEJkh6r76DIO-KNMPRI",
      "authorship_tag": "ABX9TyOMVZunVP+1VTUBkjzwQQ8Z",
      "include_colab_link": true
    },
    "kernelspec": {
      "name": "python3",
      "display_name": "Python 3"
    }
  },
  "cells": [
    {
      "cell_type": "markdown",
      "metadata": {
        "id": "view-in-github",
        "colab_type": "text"
      },
      "source": [
        "<a href=\"https://colab.research.google.com/github/samudyata12/Mini-Project/blob/main/Image_classification_using_ML.ipynb\" target=\"_parent\"><img src=\"https://colab.research.google.com/assets/colab-badge.svg\" alt=\"Open In Colab\"/></a>"
      ]
    },
    {
      "cell_type": "code",
      "metadata": {
        "id": "EFxQ_u6gN0sD",
        "outputId": "bfb2ce6e-89c9-4fae-c7d6-8f30452ccb37",
        "colab": {
          "base_uri": "https://localhost:8080/",
          "height": 107
        }
      },
      "source": [
        "!pip install bing-image-downloader"
      ],
      "execution_count": 1,
      "outputs": [
        {
          "output_type": "stream",
          "text": [
            "Collecting bing-image-downloader\n",
            "  Downloading https://files.pythonhosted.org/packages/0d/bf/537a61030b84ae4cd5022d5c7b014fd9bc3ce7c02358919153a6658a61d3/bing_image_downloader-1.0.4-py3-none-any.whl\n",
            "Installing collected packages: bing-image-downloader\n",
            "Successfully installed bing-image-downloader-1.0.4\n"
          ],
          "name": "stdout"
        }
      ]
    },
    {
      "cell_type": "code",
      "metadata": {
        "id": "wWsfZ0I1Qeun"
      },
      "source": [
        "import bing_image_downloader"
      ],
      "execution_count": 2,
      "outputs": []
    },
    {
      "cell_type": "code",
      "metadata": {
        "id": "8quzJvedQtzS",
        "outputId": "802b7e81-8b86-4f66-a6fb-bb909e6b9446",
        "colab": {
          "base_uri": "https://localhost:8080/",
          "height": 35
        }
      },
      "source": [
        "cd .."
      ],
      "execution_count": 6,
      "outputs": [
        {
          "output_type": "stream",
          "text": [
            "/content/drive\n"
          ],
          "name": "stdout"
        }
      ]
    },
    {
      "cell_type": "code",
      "metadata": {
        "id": "Qiu5JUxxQwpc",
        "outputId": "3bec155e-36e3-4b63-c986-f4a4d16407fd",
        "colab": {
          "base_uri": "https://localhost:8080/",
          "height": 35
        }
      },
      "source": [
        "cd /content/drive/My Drive/python intern sep20"
      ],
      "execution_count": 7,
      "outputs": [
        {
          "output_type": "stream",
          "text": [
            "/content/drive/My Drive/python intern sep20\n"
          ],
          "name": "stdout"
        }
      ]
    },
    {
      "cell_type": "code",
      "metadata": {
        "id": "2GzpCI7eQ3pf",
        "outputId": "576cd54b-2f71-4762-bd23-c36ee49fbc7e",
        "colab": {
          "base_uri": "https://localhost:8080/",
          "height": 35
        }
      },
      "source": [
        "cd .."
      ],
      "execution_count": 8,
      "outputs": [
        {
          "output_type": "stream",
          "text": [
            "/content/drive/My Drive\n"
          ],
          "name": "stdout"
        }
      ]
    },
    {
      "cell_type": "code",
      "metadata": {
        "id": "0EQYd4PzREF9"
      },
      "source": [
        "!mkdir images"
      ],
      "execution_count": 9,
      "outputs": []
    },
    {
      "cell_type": "code",
      "metadata": {
        "id": "c0CJ7DpFRKq8",
        "outputId": "ad30850c-02fb-4838-c50e-837b5d65f314",
        "colab": {
          "base_uri": "https://localhost:8080/",
          "height": 1000
        }
      },
      "source": [
        "from bing_image_downloader import downloader\n",
        "downloader.download('red rose', limit=30,  output_dir='images', adult_filter_off=True, force_replace=False, timeout=60)"
      ],
      "execution_count": 10,
      "outputs": [
        {
          "output_type": "stream",
          "text": [
            "\n",
            "\n",
            "[!!]Indexing page: 1\n",
            "\n",
            "[%] Indexed 30 Images on Page 1.\n",
            "\n",
            "===============================================\n",
            "\n",
            "[%] Downloading Image #1 from http://ghk.h-cdn.co/assets/17/01/red-roses.jpg\n",
            "[%] File Downloaded !\n",
            "\n",
            "[%] Downloading Image #2 from http://thewowstyle.com/wp-content/uploads/2015/01/love-boug-floral-Red-Rose-Images1.jpg\n",
            "[%] File Downloaded !\n",
            "\n",
            "[%] Downloading Image #3 from https://www.flyingflowers.co.uk/ff_images/product/163/FC01052F_Simply_Red_Roses_CC.jpg?large\n",
            "[%] File Downloaded !\n",
            "\n",
            "[%] Downloading Image #4 from https://www.atco.co.uk/wordpress/wp-content/uploads/2018/02/red-rose.jpg\n",
            "[%] File Downloaded !\n",
            "\n",
            "[%] Downloading Image #5 from http://2.bp.blogspot.com/-avGVybuDpJk/UIbXHbImZJI/AAAAAAAABoc/-cot4a7-ILk/s1600/Cute+Red+Roses.jpg\n",
            "[%] File Downloaded !\n",
            "\n",
            "[%] Downloading Image #6 from https://www.flyingflowers.co.uk/ff_images/product/204/FC01053F_Simply_Red_Roses_CC.jpg?large\n",
            "[%] File Downloaded !\n",
            "\n",
            "[%] Downloading Image #7 from http://i.ytimg.com/vi/owVgBc-P36k/maxresdefault.jpg\n",
            "[%] File Downloaded !\n",
            "\n",
            "[%] Downloading Image #8 from http://thewowstyle.com/wp-content/uploads/2015/01/red-rose-love1.jpg\n",
            "[%] File Downloaded !\n",
            "\n",
            "[%] Downloading Image #9 from https://orchidflowers.files.wordpress.com/2011/03/small_red_rose.jpg\n",
            "[%] File Downloaded !\n",
            "\n",
            "[%] Downloading Image #10 from http://thewowstyle.com/wp-content/uploads/2015/01/a_single_red_rose-normal1.jpg\n",
            "[%] File Downloaded !\n",
            "\n",
            "[%] Downloading Image #11 from https://www.springintheair.com/wp-content/uploads/2016/11/red-roses-50-set-compressor.jpg\n",
            "[%] File Downloaded !\n",
            "\n",
            "[%] Downloading Image #12 from http://3.bp.blogspot.com/-RHTc0HJizio/UZ4b_u08BQI/AAAAAAAAPQk/g21ku1sURIk/s1600/red-rose154388.jpg\n",
            "[%] File Downloaded !\n",
            "\n",
            "[%] Downloading Image #13 from https://www.springintheair.com/wp-content/uploads/2016/11/red-roses-50-set-compressor-700x700.jpg\n",
            "[%] File Downloaded !\n",
            "\n",
            "[%] Downloading Image #14 from https://cuddlebit.files.wordpress.com/2014/02/196033_nature-flowers-bouquets-rose-red-close-macro-holidays-valentine-plants_1920x1200.jpg\n",
            "[%] File Downloaded !\n",
            "\n",
            "[%] Downloading Image #15 from https://www.pixelstalk.net/wp-content/uploads/images2/Nature-flowers-rose.jpg\n",
            "[%] File Downloaded !\n",
            "\n",
            "[%] Downloading Image #16 from https://www.99bestquoteswishes.com/wp-content/uploads/2016/01/red_rose_stock_1_by_mirandarose_stock.jpg\n",
            "[!] Issue getting: https://www.99bestquoteswishes.com/wp-content/uploads/2016/01/red_rose_stock_1_by_mirandarose_stock.jpg\n",
            "[!] Error:: <urlopen error [Errno 111] Connection refused>\n",
            "[%] Downloading Image #16 from http://4.bp.blogspot.com/-xc07JhZeFgE/UZ4Rjv9iGRI/AAAAAAAAO6Q/hkLKCSyoPRY/s1600/Red-Red-Rose-roses-11661961-1280-80065.jpg\n",
            "[%] File Downloaded !\n",
            "\n",
            "[%] Downloading Image #17 from http://1.bp.blogspot.com/-YRnucRjeFAs/UZ4ggpD-enI/AAAAAAAAPU4/Sim7_uYU1j8/s1600/valentine-red-rose-2432.jpg\n",
            "[%] File Downloaded !\n",
            "\n",
            "[%] Downloading Image #18 from http://www.hdwallpapers.in/walls/lovely_red_roses-wide.jpg\n",
            "[%] File Downloaded !\n",
            "\n",
            "[%] Downloading Image #19 from https://thegardenbench.files.wordpress.com/2013/08/rose-red.jpg\n",
            "[%] File Downloaded !\n",
            "\n",
            "[%] Downloading Image #20 from http://3.bp.blogspot.com/-UnqQnjQwDMw/UZ4UCE1XiqI/AAAAAAAAO-Y/LL-b-M0c4Mo/s1600/Red-Rose33.jpg\n",
            "[%] File Downloaded !\n",
            "\n",
            "[%] Downloading Image #21 from http://www.hdwallpapers.in/walls/red_rose-wide.jpg\n",
            "[%] File Downloaded !\n",
            "\n",
            "[%] Downloading Image #22 from http://jettyflowers.com/home/wp-content/uploads/2017/05/Sexy-Red.png\n",
            "[%] File Downloaded !\n",
            "\n",
            "[%] Downloading Image #23 from https://jooinn.com/images/red-petals-3.jpg\n",
            "[%] File Downloaded !\n",
            "\n",
            "[%] Downloading Image #24 from http://3.bp.blogspot.com/-lR3tHk0LUBE/UZ4R1hQh2NI/AAAAAAAAO6Y/Mq6ddpgQ9JE/s1600/Red_Rose22.jpg\n",
            "[%] File Downloaded !\n",
            "\n",
            "[%] Downloading Image #25 from https://stadiumflowers.files.wordpress.com/2011/03/red-roses-and-mokara-orchids.jpg\n",
            "[%] File Downloaded !\n",
            "\n",
            "[%] Downloading Image #26 from https://shakespeareoxfordfellowship.org/wp-content/uploads/rose_Awesome-Red.jpg\n",
            "[%] File Downloaded !\n",
            "\n",
            "[%] Downloading Image #27 from https://images.unsplash.com/photo-1537454959372-885b35677ef5?ixlib=rb-1.2.1&amp;q=80&amp;fm=jpg&amp;crop=entropy&amp;cs=tinysrgb&amp;w=1080&amp;fit=max&amp;ixid=eyJhcHBfaWQiOjEyMDd9\n",
            "[%] File Downloaded !\n",
            "\n",
            "[%] Downloading Image #28 from http://2.bp.blogspot.com/-QjKgu1whrUo/UDYw3Ay0BxI/AAAAAAAAIEA/BSrioTA28X0/s1600/Red+Rose+Wallpapers+7.jpg\n",
            "[%] File Downloaded !\n",
            "\n",
            "[%] Downloading Image #29 from https://www.hdwallpaper.nu/wp-content/uploads/2015/04/red_rose-1483879.jpg\n",
            "[%] File Downloaded !\n",
            "\n",
            "\n",
            "\n",
            "[!!]Indexing page: 2\n",
            "\n",
            "[%] Indexed 35 Images on Page 2.\n",
            "\n",
            "===============================================\n",
            "\n",
            "[%] Downloading Image #30 from http://ghk.h-cdn.co/assets/17/01/red-roses.jpg\n",
            "[%] File Downloaded !\n",
            "\n",
            "\n",
            "\n",
            "[%] Done. Downloaded 30 images.\n",
            "\n",
            "===============================================\n",
            "\n"
          ],
          "name": "stdout"
        }
      ]
    },
    {
      "cell_type": "code",
      "metadata": {
        "id": "7xmjch5HRTVe",
        "outputId": "804f47bd-42db-437f-8776-30a937f8a65d",
        "colab": {
          "base_uri": "https://localhost:8080/",
          "height": 1000
        }
      },
      "source": [
        "from bing_image_downloader import downloader\n",
        "downloader.download('ice cream cone', limit=30,  output_dir='images', adult_filter_off=True, force_replace=False, timeout=60)"
      ],
      "execution_count": 11,
      "outputs": [
        {
          "output_type": "stream",
          "text": [
            "\n",
            "\n",
            "[!!]Indexing page: 1\n",
            "\n",
            "[%] Indexed 30 Images on Page 1.\n",
            "\n",
            "===============================================\n",
            "\n",
            "[%] Downloading Image #1 from https://pixfeeds.com/images/desserts/ice-creams/1280-177118229-ice-cream-cone.jpg\n",
            "[%] File Downloaded !\n",
            "\n",
            "[%] Downloading Image #2 from https://thepioneerwoman.com/wp-content/uploads/2015/09/dipped-and-decorated-ice-cream-cones-09.jpg\n",
            "[!] Issue getting: https://thepioneerwoman.com/wp-content/uploads/2015/09/dipped-and-decorated-ice-cream-cones-09.jpg\n",
            "[!] Error:: HTTP Error 410: 410 Gone\n",
            "[%] Downloading Image #2 from https://www.cravingsofalunatic.com/wp-content/uploads/2016/03/Ice-Cream-Cone-Cupcakes-4.jpg\n",
            "[%] File Downloaded !\n",
            "\n",
            "[%] Downloading Image #3 from https://sugarspunrun.com/wp-content/uploads/2015/08/ice-cream-cupcakes-2.jpg\n",
            "[%] File Downloaded !\n",
            "\n",
            "[%] Downloading Image #4 from http://3.bp.blogspot.com/_5_Asq52aBhM/THpNWX0ZobI/AAAAAAAAAe4/kBgKw8EjF2c/s1600/icecream+cone+cupcakes+147.JPG\n",
            "[%] File Downloaded !\n",
            "\n",
            "[%] Downloading Image #5 from http://www.camdenac.com/wp-content/uploads/2017/05/7-scoop-ice-cream-cone.jpg\n",
            "[%] File Downloaded !\n",
            "\n",
            "[%] Downloading Image #6 from https://www.webstaurantstore.com/images/products/extra_large/123922/944570.jpg\n",
            "[%] File Downloaded !\n",
            "\n",
            "[%] Downloading Image #7 from https://i.ytimg.com/vi/Cu_UxE3lkXQ/maxresdefault.jpg\n",
            "[%] File Downloaded !\n",
            "\n",
            "[%] Downloading Image #8 from http://www.cravingsofalunatic.com/wp-content/uploads/2016/03/Ice-Cream-Cone-Cupcakes-3.jpg\n",
            "[%] File Downloaded !\n",
            "\n",
            "[%] Downloading Image #9 from https://jellytoastblog.com/wp-content/uploads/2016/06/marshmallow-dipped-ice-cream-cones-8-of-11.jpg\n",
            "[%] File Downloaded !\n",
            "\n",
            "[%] Downloading Image #10 from http://www.thecomfortofcooking.com/wp-content/uploads/2016/01/HomemadeVanillaDrumstickIceCreamCones-4.jpg\n",
            "[%] File Downloaded !\n",
            "\n",
            "[%] Downloading Image #11 from https://shewearsmanyhats.com/wp-content/uploads/2013/07/dipped-ice-cream-cones-7.jpg\n",
            "[%] File Downloaded !\n",
            "\n",
            "[%] Downloading Image #12 from https://www.webstaurantstore.com/images/products/extra_large/67189/1915151.jpg\n",
            "[%] File Downloaded !\n",
            "\n",
            "[%] Downloading Image #13 from http://shewearsmanyhats.com/wp-content/uploads/2013/07/dipped-ice-cream-cones-1.jpg\n",
            "[%] File Downloaded !\n",
            "\n",
            "[%] Downloading Image #14 from https://www.cravingsofalunatic.com/wp-content/uploads/2016/03/Ice-Cream-Cone-Cupcakes-Square-Collage-Photo.jpg\n",
            "[%] File Downloaded !\n",
            "\n",
            "[%] Downloading Image #15 from https://www.procaffenation.com/wp-content/uploads/2017/04/21-compressor-1.jpg\n",
            "[%] File Downloaded !\n",
            "\n",
            "[%] Downloading Image #16 from https://www.southernkissed.com/wp-content/uploads/2016/07/Cone-with-Ice-Cream.jpg\n",
            "[%] File Downloaded !\n",
            "\n",
            "[%] Downloading Image #17 from https://upload.wikimedia.org/wikipedia/commons/d/da/Strawberry_ice_cream_cone_%285076899310%29.jpg\n",
            "[%] File Downloaded !\n",
            "\n",
            "[%] Downloading Image #18 from http://www.ellinorsicecream.co.uk/wp-content/uploads/scoop-for-trailor-2.jpg\n",
            "[%] File Downloaded !\n",
            "\n",
            "[%] Downloading Image #19 from https://www.rocketpartyequipment.co.za/wp-content/uploads/2017/05/Ice-Cream-Waffle-Cone-1.jpg\n",
            "[%] File Downloaded !\n",
            "\n",
            "[%] Downloading Image #20 from https://sugarspunrun.com/wp-content/uploads/2018/07/Ice-Cream-Cone-Cupcakes-Recipe-1-of-1-6.jpg\n",
            "[%] File Downloaded !\n",
            "\n",
            "[%] Downloading Image #21 from http://3.bp.blogspot.com/-FoChWClRtqc/UayKxyzjFMI/AAAAAAAAD3Y/oiAS1Vo3vNw/s1600/mm45.jpg\n",
            "[%] File Downloaded !\n",
            "\n",
            "[%] Downloading Image #22 from https://grubamericana.files.wordpress.com/2014/09/ice-cream-cones.jpg\n",
            "[%] File Downloaded !\n",
            "\n",
            "[%] Downloading Image #23 from http://www.thecomfortofcooking.com/wp-content/uploads/2016/01/HomemadeVanillaDrumstickIceCreamCones-1.jpg\n",
            "[%] File Downloaded !\n",
            "\n",
            "[%] Downloading Image #24 from https://www.braums.com/wp-content/uploads/2018/06/IceCreamCones.jpg\n",
            "[Error]Invalid image, not saving https://www.braums.com/wp-content/uploads/2018/06/IceCreamCones.jpg\n",
            "\n",
            "[!] Issue getting: https://www.braums.com/wp-content/uploads/2018/06/IceCreamCones.jpg\n",
            "[!] Error:: No active exception to reraise\n",
            "[%] Downloading Image #24 from https://cdn-image.foodandwine.com/sites/default/files/styles/4_3_horizontal_-_1200x900/public/1497371785/ice-cream-cones-history-FT-BLOG0617.jpg?itok=jwLKTjGr\n",
            "[%] File Downloaded !\n",
            "\n",
            "[%] Downloading Image #25 from https://reneenicoleskitchen.com/wp-content/uploads/2017/05/Dipped-Ice-Cream-Cones-Image-2.jpg\n",
            "[%] File Downloaded !\n",
            "\n",
            "[%] Downloading Image #26 from http://food.fnr.sndimg.com/content/dam/images/food/fullset/2010/4/26/1/FNM_060110-Ice-Cream-Truck-062_s3x4.jpg.rend.hgtvcom.616.822.suffix/1382539328756.jpeg\n",
            "[%] File Downloaded !\n",
            "\n",
            "[%] Downloading Image #27 from https://sugarspunrun.com/wp-content/uploads/2015/08/ice-cream-cupcakes-10.jpg\n",
            "[%] File Downloaded !\n",
            "\n",
            "[%] Downloading Image #28 from https://i1.wp.com/butterwithasideofbread.com/wp-content/uploads/2017/06/Rice-Krispie-Ice-Cream-Cones.BSB_.IMG_0643.jpg?resize=750%2C1125&amp;ssl=1\n",
            "[%] File Downloaded !\n",
            "\n",
            "\n",
            "\n",
            "[!!]Indexing page: 2\n",
            "\n",
            "[%] Indexed 35 Images on Page 2.\n",
            "\n",
            "===============================================\n",
            "\n",
            "[%] Downloading Image #29 from https://pixfeeds.com/images/desserts/ice-creams/1280-177118229-ice-cream-cone.jpg\n",
            "[%] File Downloaded !\n",
            "\n",
            "[%] Downloading Image #30 from https://reneenicoleskitchen.com/wp-content/uploads/2017/05/Dipped-Ice-Cream-Cones-Image-2.jpg\n",
            "[%] File Downloaded !\n",
            "\n",
            "\n",
            "\n",
            "[%] Done. Downloaded 30 images.\n",
            "\n",
            "===============================================\n",
            "\n"
          ],
          "name": "stdout"
        }
      ]
    },
    {
      "cell_type": "code",
      "metadata": {
        "id": "lORM66LwReOi",
        "outputId": "680d2e0e-34be-4d86-f70c-16f6e5f202a5",
        "colab": {
          "base_uri": "https://localhost:8080/",
          "height": 1000
        }
      },
      "source": [
        "from bing_image_downloader import downloader\n",
        "downloader.download('metal bottle', limit=30,  output_dir='images', adult_filter_off=True, force_replace=False, timeout=60)"
      ],
      "execution_count": 12,
      "outputs": [
        {
          "output_type": "stream",
          "text": [
            "\n",
            "\n",
            "[!!]Indexing page: 1\n",
            "\n",
            "[%] Indexed 30 Images on Page 1.\n",
            "\n",
            "===============================================\n",
            "\n",
            "[%] Downloading Image #1 from https://cottonon.com/on/demandware.static/-/Sites-catalog-master-typo/default/dw4aa11e14/137806/137806-13-2.jpg\n",
            "[%] File Downloaded !\n",
            "\n",
            "[%] Downloading Image #2 from https://totalmerchandise-uploadable-assets.s3.eu-west-2.amazonaws.com/category/417/5d25ed4fe10d1_Branded-Metal-Water-Bottles.jpg\n",
            "[%] File Downloaded !\n",
            "\n",
            "[%] Downloading Image #3 from https://www.promotionproducts.com.au/media/products/images/powder-coated-metal-bottles/Black%20Powder%20Coated%20Metal%20Bottles.jpg\n",
            "[%] File Downloaded !\n",
            "\n",
            "[%] Downloading Image #4 from https://www.boostpromotions.co.nz/wp-content/uploads/2017/07/TUA-Mirage-Metal-Drink-Bottle-LightBlue-110754.jpg\n",
            "[%] File Downloaded !\n",
            "\n",
            "[%] Downloading Image #5 from https://www.promotionproducts.com.au/media/products/images/lugano-metal-bottles/Promotional Lugano Metal Bottles.jpg\n",
            "[!] Issue getting: https://www.promotionproducts.com.au/media/products/images/lugano-metal-bottles/Promotional Lugano Metal Bottles.jpg\n",
            "[!] Error:: URL can't contain control characters. '/media/products/images/lugano-metal-bottles/Promotional Lugano Metal Bottles.jpg' (found at least ' ')\n",
            "[%] Downloading Image #5 from https://primoproducts.co.nz/assets/Uploads/3d67b3834e/Mirage-Metal-Drink-Bottle+Purple-v2.jpg\n",
            "[%] File Downloaded !\n",
            "\n",
            "[%] Downloading Image #6 from http://i.ebayimg.com/images/i/201153610545-0-1/s-l1000.jpg\n",
            "[%] File Downloaded !\n",
            "\n",
            "[%] Downloading Image #7 from https://cottonon.com/on/demandware.static/-/Sites-catalog-master-typo/default/dwe45f372e/137806/137806-65-2.jpg\n",
            "[%] File Downloaded !\n",
            "\n",
            "[%] Downloading Image #8 from https://www.boostpromotions.co.nz/wp-content/uploads/2018/04/TUA-mirage-metal-drink-bottle-110754-0.jpg\n",
            "[%] File Downloaded !\n",
            "\n",
            "[%] Downloading Image #9 from https://www.promotionproducts.com.au/media/products/images/brighton-metal-drink-bottles/Brighton-Metal-Drink-Bottles_teal.jpg\n",
            "[%] File Downloaded !\n",
            "\n",
            "[%] Downloading Image #10 from https://www.boostpromotions.co.nz/wp-content/uploads/2017/07/TUA-Mirage-Metal-Drink-Bottle-Black-110754.jpg\n",
            "[%] File Downloaded !\n",
            "\n",
            "[%] Downloading Image #11 from https://www.boostpromotions.co.nz/wp-content/uploads/2017/07/TUA-Mirage-Metal-Drink-Bottle-BrightGreen-110754.jpg\n",
            "[%] File Downloaded !\n",
            "\n",
            "[%] Downloading Image #12 from https://typo.com/on/demandware.static/-/Sites-catalog-master-typo/default/dwcf8ff055/140696/140696-00-1.jpg\n",
            "[%] File Downloaded !\n",
            "\n",
            "[%] Downloading Image #13 from https://www.promotionproducts.com.au/media/products/images/brighton-metal-drink-bottles/Brighton-Metal-Drink-Bottles_pink.jpg\n",
            "[%] File Downloaded !\n",
            "\n",
            "[%] Downloading Image #14 from https://reusablesuperstore.com/wp-content/uploads/2019/03/Stainless-Steel-Aluminium-Reusable-Water-Metal-Colour.png\n",
            "[%] File Downloaded !\n",
            "\n",
            "[%] Downloading Image #15 from https://cottonon.com/on/demandware.static/-/Sites-catalog-master-typo/default/dw53497014/137806/137806-13-1.jpg\n",
            "[%] File Downloaded !\n",
            "\n",
            "[%] Downloading Image #16 from https://ae01.alicdn.com/kf/HTB15EWTQFXXXXcfXXXXq6xXFXXXv/500ML-Outdoor-Sports-Water-Bottle-Aluminum-Oval-travel-sports-kettle-student-metal-Drinking-Bottles-New-Design.jpg\n",
            "[%] File Downloaded !\n",
            "\n",
            "[%] Downloading Image #17 from https://www.promotionproducts.com.au/media/products/images/brighton-metal-drink-bottles/Brighton-Metal-Drink-Bottles_hero.jpg\n",
            "[%] File Downloaded !\n",
            "\n",
            "[%] Downloading Image #18 from http://www.vividpromotions.com.au/images/PS2003.jpg\n",
            "[%] File Downloaded !\n",
            "\n",
            "[%] Downloading Image #19 from https://www.promotionproducts.com.au/media/products/images/lugano-metal-bottles/Green Lugano Thermo Bottles.jpg\n",
            "[!] Issue getting: https://www.promotionproducts.com.au/media/products/images/lugano-metal-bottles/Green Lugano Thermo Bottles.jpg\n",
            "[!] Error:: URL can't contain control characters. '/media/products/images/lugano-metal-bottles/Green Lugano Thermo Bottles.jpg' (found at least ' ')\n",
            "[%] Downloading Image #19 from https://primopromo.com.au/assets/Uploads/Mirage-Metal-Drink-Bottle-Flip-Lid+Teal2.jpg\n",
            "[%] File Downloaded !\n",
            "\n",
            "[%] Downloading Image #20 from https://images.promotionsonly.com.au/product/adventure-metal-drink-bottle.jpg\n",
            "[%] File Downloaded !\n",
            "\n",
            "[%] Downloading Image #21 from https://www.boostpromotions.co.nz/wp-content/uploads/2018/04/TUA-primo-metal-drink-bottle-110753-0.jpg\n",
            "[%] File Downloaded !\n",
            "\n",
            "[%] Downloading Image #22 from https://fastpromos.com.au/wp-content/uploads/2019/11/113808-0.jpg\n",
            "[%] File Downloaded !\n",
            "\n",
            "[%] Downloading Image #23 from http://demandware.edgesuite.net/sits_pod43/dw/image/v2/AATD_PRD/on/demandware.static/-/Sites-cog-typo-master/default/dwd8ff0580/137806/137806-15-2.jpg?sw=520&amp;sh=780&amp;sm=fit\n",
            "[!] Issue getting: http://demandware.edgesuite.net/sits_pod43/dw/image/v2/AATD_PRD/on/demandware.static/-/Sites-cog-typo-master/default/dwd8ff0580/137806/137806-15-2.jpg?sw=520&amp;sh=780&amp;sm=fit\n",
            "[!] Error:: HTTP Error 404: Not Found\n",
            "[%] Downloading Image #23 from https://www.boostpromotions.co.nz/wp-content/uploads/2017/07/TUA-Mirage-Metal-Drink-Bottle-Yellow-110754.jpg\n",
            "[%] File Downloaded !\n",
            "\n",
            "[%] Downloading Image #24 from https://ik.imagekit.io/bkkx94uvq/media/catalog/product/j/m/jm038l-default-branded-drink-bottle.png\n",
            "[!] Issue getting: https://ik.imagekit.io/bkkx94uvq/media/catalog/product/j/m/jm038l-default-branded-drink-bottle.png\n",
            "[!] Error:: HTTP Error 404: Not Found\n",
            "[%] Downloading Image #24 from https://n4.sdlcdn.com/imgs/a/3/c/Shopngift-Red-Metal-Water-Bottle-SDL243333394-1-77bb3.jpg\n",
            "[%] File Downloaded !\n",
            "\n",
            "[%] Downloading Image #25 from https://images1.qualitylogoproducts.com/custom-travelmugs/trek-bottle-20oz-superextralarge-193355.jpg\n",
            "[%] File Downloaded !\n",
            "\n",
            "[%] Downloading Image #26 from https://www.vividpromotions.com.au/images/110008-0.jpg\n",
            "[%] File Downloaded !\n",
            "\n",
            "\n",
            "\n",
            "[!!]Indexing page: 2\n",
            "\n",
            "[%] Indexed 35 Images on Page 2.\n",
            "\n",
            "===============================================\n",
            "\n",
            "[%] Downloading Image #27 from https://cottonon.com/on/demandware.static/-/Sites-catalog-master-typo/default/dw4aa11e14/137806/137806-13-2.jpg\n",
            "[%] File Downloaded !\n",
            "\n",
            "[%] Downloading Image #28 from https://totalmerchandise-uploadable-assets.s3.eu-west-2.amazonaws.com/category/417/5d25ed4fe10d1_Branded-Metal-Water-Bottles.jpg\n",
            "[%] File Downloaded !\n",
            "\n",
            "[%] Downloading Image #29 from https://www.promotionproducts.com.au/media/products/images/powder-coated-metal-bottles/Black%20Powder%20Coated%20Metal%20Bottles.jpg\n",
            "[%] File Downloaded !\n",
            "\n",
            "[%] Downloading Image #30 from https://www.boostpromotions.co.nz/wp-content/uploads/2017/07/TUA-Mirage-Metal-Drink-Bottle-LightBlue-110754.jpg\n",
            "[%] File Downloaded !\n",
            "\n",
            "\n",
            "\n",
            "[%] Done. Downloaded 30 images.\n",
            "\n",
            "===============================================\n",
            "\n"
          ],
          "name": "stdout"
        }
      ]
    },
    {
      "cell_type": "code",
      "metadata": {
        "id": "U1DDjjczRrte"
      },
      "source": [
        "import numpy as np\n",
        "from skimage.transform import resize\n",
        "from skimage.io import imread\n",
        "import matplotlib.pyplot as plt\n",
        "import os\n",
        "\n",
        "target = []\n",
        "images = []   \n",
        "flat_data = []  \n",
        "\n",
        "DATADIR = '/content/drive/My Drive/images'\n",
        "CATEGORIES = ['red rose','ice cream cone','metal bottle']\n",
        "\n",
        "for category in CATEGORIES:\n",
        "  class_num = CATEGORIES.index(category)\n",
        "  path = os.path.join(DATADIR,category)\n",
        "  for img in os.listdir(path):\n",
        "    img_array = imread(os.path.join(path,img))\n",
        "    img_resized = resize(img_array,(150,150,3))\n",
        "    flat_data.append(img_resized.flatten())\n",
        "    images.append(img_resized)\n",
        "    target.append(class_num)\n",
        "\n",
        "target = np.array(target)\n",
        "images = np.array(images)\n",
        "flat_data = np.array(flat_data)"
      ],
      "execution_count": 14,
      "outputs": []
    },
    {
      "cell_type": "code",
      "metadata": {
        "id": "iS_8T6GUR-Z5",
        "outputId": "e5b20bc5-c2d5-4ab3-8d3b-e39c5a12c3de",
        "colab": {
          "base_uri": "https://localhost:8080/",
          "height": 104
        }
      },
      "source": [
        "target"
      ],
      "execution_count": 15,
      "outputs": [
        {
          "output_type": "execute_result",
          "data": {
            "text/plain": [
              "array([0, 0, 0, 0, 0, 0, 0, 0, 0, 0, 0, 0, 0, 0, 0, 0, 0, 0, 0, 0, 0, 0,\n",
              "       0, 0, 0, 0, 0, 0, 0, 0, 1, 1, 1, 1, 1, 1, 1, 1, 1, 1, 1, 1, 1, 1,\n",
              "       1, 1, 1, 1, 1, 1, 1, 1, 1, 1, 1, 1, 1, 1, 1, 1, 2, 2, 2, 2, 2, 2,\n",
              "       2, 2, 2, 2, 2, 2, 2, 2, 2, 2, 2, 2, 2, 2, 2, 2, 2, 2, 2, 2, 2, 2,\n",
              "       2, 2])"
            ]
          },
          "metadata": {
            "tags": []
          },
          "execution_count": 15
        }
      ]
    },
    {
      "cell_type": "code",
      "metadata": {
        "id": "q2_jP_6DSiCt",
        "outputId": "6f050b2d-2c84-4867-9b98-033b107da0b3",
        "colab": {
          "base_uri": "https://localhost:8080/",
          "height": 283
        }
      },
      "source": [
        "unique,count = np.unique(target,return_counts=True)\n",
        "plt.bar(CATEGORIES,count)"
      ],
      "execution_count": 16,
      "outputs": [
        {
          "output_type": "execute_result",
          "data": {
            "text/plain": [
              "<BarContainer object of 3 artists>"
            ]
          },
          "metadata": {
            "tags": []
          },
          "execution_count": 16
        },
        {
          "output_type": "display_data",
          "data": {
            "image/png": "[encoded data removed]",
            "text/plain": [
              "<Figure size 432x288 with 1 Axes>"
            ]
          },
          "metadata": {
            "tags": [],
            "needs_background": "light"
          }
        }
      ]
    },
    {
      "cell_type": "code",
      "metadata": {
        "id": "GwR7wTuGSmRJ"
      },
      "source": [
        "from sklearn.model_selection import train_test_split\n",
        "x_train,x_test,y_train,y_test = train_test_split(flat_data,target,test_size=0.3,random_state=109)"
      ],
      "execution_count": 40,
      "outputs": []
    },
    {
      "cell_type": "code",
      "metadata": {
        "id": "t1CxiHy_SquU",
        "outputId": "06b90844-6948-49ec-9546-267b43020c26",
        "colab": {
          "base_uri": "https://localhost:8080/",
          "height": 243
        }
      },
      "source": [
        "from sklearn.model_selection import GridSearchCV\n",
        "from sklearn import svm \n",
        "param_grid = [\n",
        "              {'C':[1,10,100,1000],'kernel':['linear']},\n",
        "              {'C':[1,10,100,1000],'gamma':[0.001,0.000] ,'kernel':['rbf']},\n",
        "]\n",
        "svc = svm.SVC(probability=True)\n",
        "clf = GridSearchCV(svc,param_grid)\n",
        "clf.fit(x_train,y_train)\n"
      ],
      "execution_count": 41,
      "outputs": [
        {
          "output_type": "execute_result",
          "data": {
            "text/plain": [
              "GridSearchCV(cv=None, error_score=nan,\n",
              "             estimator=SVC(C=1.0, break_ties=False, cache_size=200,\n",
              "                           class_weight=None, coef0=0.0,\n",
              "                           decision_function_shape='ovr', degree=3,\n",
              "                           gamma='scale', kernel='rbf', max_iter=-1,\n",
              "                           probability=True, random_state=None, shrinking=True,\n",
              "                           tol=0.001, verbose=False),\n",
              "             iid='deprecated', n_jobs=None,\n",
              "             param_grid=[{'C': [1, 10, 100, 1000], 'kernel': ['linear']},\n",
              "                         {'C': [1, 10, 100, 1000], 'gamma': [0.001, 0.0],\n",
              "                          'kernel': ['rbf']}],\n",
              "             pre_dispatch='2*n_jobs', refit=True, return_train_score=False,\n",
              "             scoring=None, verbose=0)"
            ]
          },
          "metadata": {
            "tags": []
          },
          "execution_count": 41
        }
      ]
    },
    {
      "cell_type": "code",
      "metadata": {
        "id": "LYTuKDMLSups",
        "outputId": "f882d4cb-66a9-43f4-cd8b-4b870c1fbab0",
        "colab": {
          "base_uri": "https://localhost:8080/",
          "height": 52
        }
      },
      "source": [
        "y_pred = clf.predict(x_test)\n",
        "y_pred"
      ],
      "execution_count": 42,
      "outputs": [
        {
          "output_type": "execute_result",
          "data": {
            "text/plain": [
              "array([1, 0, 1, 2, 1, 1, 0, 1, 1, 0, 1, 0, 0, 0, 1, 1, 2, 1, 0, 1, 2, 2,\n",
              "       2, 0, 0, 0, 1])"
            ]
          },
          "metadata": {
            "tags": []
          },
          "execution_count": 42
        }
      ]
    },
    {
      "cell_type": "code",
      "metadata": {
        "id": "NtDebS_7TOYL",
        "outputId": "f18994ff-4412-4f52-8a3e-aea3df1a03cd",
        "colab": {
          "base_uri": "https://localhost:8080/",
          "height": 52
        }
      },
      "source": [
        "y_test"
      ],
      "execution_count": 43,
      "outputs": [
        {
          "output_type": "execute_result",
          "data": {
            "text/plain": [
              "array([1, 0, 1, 2, 2, 1, 0, 1, 1, 0, 1, 0, 1, 2, 2, 1, 2, 1, 0, 1, 2, 2,\n",
              "       2, 0, 0, 0, 1])"
            ]
          },
          "metadata": {
            "tags": []
          },
          "execution_count": 43
        }
      ]
    },
    {
      "cell_type": "code",
      "metadata": {
        "id": "z2QZ7W6wTQ7p"
      },
      "source": [
        "from sklearn.metrics import accuracy_score,confusion_matrix"
      ],
      "execution_count": 44,
      "outputs": []
    },
    {
      "cell_type": "code",
      "metadata": {
        "id": "wChUG06VTT1G",
        "outputId": "15f1bbf7-c209-433c-c44a-e5e92568cff8",
        "colab": {
          "base_uri": "https://localhost:8080/",
          "height": 35
        }
      },
      "source": [
        "accuracy_score(y_pred,y_test)"
      ],
      "execution_count": 45,
      "outputs": [
        {
          "output_type": "execute_result",
          "data": {
            "text/plain": [
              "0.8518518518518519"
            ]
          },
          "metadata": {
            "tags": []
          },
          "execution_count": 45
        }
      ]
    },
    {
      "cell_type": "code",
      "metadata": {
        "id": "ioMCd43oTW3g",
        "outputId": "68f71d0e-77a1-4c83-f087-c7d9263d08b6",
        "colab": {
          "base_uri": "https://localhost:8080/",
          "height": 69
        }
      },
      "source": [
        "confusion_matrix(y_pred,y_test)"
      ],
      "execution_count": 46,
      "outputs": [
        {
          "output_type": "execute_result",
          "data": {
            "text/plain": [
              "array([[ 8,  1,  1],\n",
              "       [ 0, 10,  2],\n",
              "       [ 0,  0,  5]])"
            ]
          },
          "metadata": {
            "tags": []
          },
          "execution_count": 46
        }
      ]
    },
    {
      "cell_type": "code",
      "metadata": {
        "id": "tI9MbV5GWOmb"
      },
      "source": [
        "import pickle\n",
        "pickle.dump(clf,open('img_model.p','wb'))"
      ],
      "execution_count": 50,
      "outputs": []
    },
    {
      "cell_type": "code",
      "metadata": {
        "id": "6Z7EuxQIWS0K"
      },
      "source": [
        "model = pickle.load(open('img_model.p','rb'))"
      ],
      "execution_count": 51,
      "outputs": []
    },
    {
      "cell_type": "code",
      "metadata": {
        "id": "NrqNVBu4Vgvg",
        "outputId": "ad673750-ae69-40ed-9db1-880d2166abdc",
        "colab": {
          "base_uri": "https://localhost:8080/",
          "height": 321
        }
      },
      "source": [
        "flat_data = []\n",
        "url = input('Enter your URL')\n",
        "img = imread(url)\n",
        "img_resized = resize(img,(150,150,3))\n",
        "flat_data.append(img_resized.flatten())\n",
        "flat_data = np.array(flat_data)\n",
        "print(img.shape)\n",
        "plt.imshow(img_resized)\n",
        "y_out = model.predict(flat_data)\n",
        "y_out = CATEGORIES[y_out[0]]\n",
        "print(f' PREDICTED OUTPUT:{y_out}')"
      ],
      "execution_count": 55,
      "outputs": [
        {
          "output_type": "stream",
          "text": [
            "Enter your URLhttps://www.rocketpartyequipment.co.za/wp-content/uploads/2017/05/Ice-Cream-Waffle-Cone-1.jpg\n",
            "(1028, 810, 3)\n",
            " PREDICTED OUTPUT:ice cream cone\n"
          ],
          "name": "stdout"
        },
        {
          "output_type": "display_data",
          "data": {
            "image/png": "[encoded data removed]",
            "text/plain": [
              "<Figure size 432x288 with 1 Axes>"
            ]
          },
          "metadata": {
            "tags": [],
            "needs_background": "light"
          }
        }
      ]
    },
    {
      "cell_type": "code",
      "metadata": {
        "id": "biA1Iy4rVzUP"
      },
      "source": [
        ""
      ],
      "execution_count": null,
      "outputs": []
    }
  ]
}